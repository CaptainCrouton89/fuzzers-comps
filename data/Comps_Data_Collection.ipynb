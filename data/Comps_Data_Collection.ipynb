{
  "cells": [
    {
      "cell_type": "code",
      "execution_count": null,
      "metadata": {
        "colab": {
          "base_uri": "https://localhost:8080/"
        },
        "id": "ye8o51QkBATf",
        "outputId": "7d955fb5-27bc-40e2-f179-3281351f32b9"
      },
      "outputs": [],
      "source": [
        "# pip install google-play-scraper"
      ]
    },
    {
      "cell_type": "code",
      "execution_count": null,
      "metadata": {
        "id": "HJqSVPxgBEoM"
      },
      "outputs": [],
      "source": [
        "from google_play_scraper import app\n",
        "import pandas as pd\n",
        "import numpy as np\n",
        "from google_play_scraper import Sort, reviews_all, reviews"
      ]
    },
    {
      "cell_type": "code",
      "execution_count": 6,
      "metadata": {},
      "outputs": [
        {
          "ename": "NameError",
          "evalue": "name 'air' is not defined",
          "output_type": "error",
          "traceback": [
            "\u001b[0;31m---------------------------------------------------------------------------\u001b[0m",
            "\u001b[0;31mNameError\u001b[0m                                 Traceback (most recent call last)",
            "\u001b[0;32m/var/folders/sj/y4xrl4317cdg4y0ltn8345m00000gn/T/ipykernel_60224/215259621.py\u001b[0m in \u001b[0;36m<module>\u001b[0;34m\u001b[0m\n\u001b[1;32m     47\u001b[0m     \u001b[0;34m\"air.com.flipline.papaspancakeriatogo\"\u001b[0m\u001b[0;34m,\u001b[0m\u001b[0;34m\u001b[0m\u001b[0;34m\u001b[0m\u001b[0m\n\u001b[1;32m     48\u001b[0m     \u001b[0;34m\"com.humble.SlayTheSpire\"\u001b[0m\u001b[0;34m,\u001b[0m\u001b[0;34m\u001b[0m\u001b[0;34m\u001b[0m\u001b[0m\n\u001b[0;32m---> 49\u001b[0;31m     \u001b[0mair\u001b[0m\u001b[0;34m.\u001b[0m\u001b[0mcom\u001b[0m\u001b[0;34m.\u001b[0m\u001b[0mflipline\u001b[0m\u001b[0;34m.\u001b[0m\u001b[0mpapasdonuteriatogo\u001b[0m\u001b[0;34m,\u001b[0m \u001b[0mcom\u001b[0m\u001b[0;34m.\u001b[0m\u001b[0mexplodingkittens\u001b[0m\u001b[0;34m.\u001b[0m\u001b[0mprojectbombsquad\u001b[0m\u001b[0;34m\u001b[0m\u001b[0;34m\u001b[0m\u001b[0m\n\u001b[0m\u001b[1;32m     50\u001b[0m ]\n",
            "\u001b[0;31mNameError\u001b[0m: name 'air' is not defined"
          ]
        }
      ],
      "source": [
        "# testing git integration!\n",
        "all_apps = [\n",
        "    \"com.mojang.minecraftpe\",\n",
        "    \"com.ninjakiwi.bloonstd6\",\n",
        "    \"com.robtopx.geometryjump\",\n",
        "    \"com.wb.headsup\",\n",
        "    \"com.trueaxis.trueskate\",\n",
        "    \"com.miniclip.plagueinc\",\n",
        "    \"com.marmalade.monopoly\",\n",
        "    \"com.rockstargames.gtasa\",\n",
        "    \"com.ninjakiwi.bloonstd5\",\n",
        "    \"air.com.flipline.papasfreezeriatogo\",\n",
        "    \"com.and.games505.TerrariaPaid\",\n",
        "    \"com.chucklefish.stardewvalley\",\n",
        "    \"com.sofarsogood.incredibox\",\n",
        "    \"com.giantssoftware.fs20.google\",\n",
        "    \"air.com.flipline.papasmochariatogo\",\n",
        "    \"com.scottgames.fivenightsatfreddys\",\n",
        "    \"com.MontanaGames.Lowriders.Comeback2\",\n",
        "    \"com.MontanaGames.Lowriders.Comeback2\", \n",
        "    \"air.com.flipline.papassushiriatogo\", \n",
        "    \"com.etermax.preguntados.pro\", \n",
        "    \"com.marmalade.gol2\", \n",
        "    \"com.marmalade.golmobile\", \n",
        "    \"com.Sarepta.MyChildLebensborn\", \n",
        "    \"com.notdoppler.earntodie2\", \n",
        "    \"me.pou.app\", \n",
        "    \"moonbear.PocketBuild\", \n",
        "    \"com.activision.boz\", \n",
        "    \"com.scottgames.fnaf2\", \n",
        "    \"com.rockstargames.gtavc\", \n",
        "    \"com.marmalade.cluedogame\", \n",
        "    \"com.clickteam.ultimatecustomnight\", \n",
        "    \"air.com.flipline.papaswingeriatogo\",\n",
        "    \"com.infinitypocket.flickhomerun\", \n",
        "    \"air.com.flipline.papasburgeriatogo\", \n",
        "    \"com.notdoppler.earntodie\", \n",
        "    \"air.com.flipline.papascupcakeriatogo\", \n",
        "    \"com.rockstargames.bully\", \n",
        "    \"air.com.flipline.papascheeseriatogo\", \n",
        "    \"com.noodlecake.gettingoverit\", \n",
        "    \"com.scottgames.fnaf4\", \n",
        "    \"com.rogue.under\", \n",
        "    \"air.com.flipline.papaspizzeriatogo\", \n",
        "    \"air.com.flipline.papaspastariatogo\", \n",
        "    \"com.ndemiccreations.rebelinc\", \n",
        "    \"air.com.flipline.papaspancakeriatogo\", \n",
        "    \"com.humble.SlayTheSpire\", \n",
        "    \"air.com.flipline.papasdonuteriatogo\", \n",
        "    \"com.explodingkittens.projectbombsquad\"\n",
        "]\n"
      ]
    },
    {
      "cell_type": "code",
      "execution_count": null,
      "metadata": {},
      "outputs": [],
      "source": [
        "#US Market\n",
        "\n",
        "# us_reviews = reviews_all(\n",
        "#     # 'com.busuu.android.en',\n",
        "#     # 'tv.twitch.android.app',\n",
        "#     'com.zhiliaoapp.musically',\n",
        "#     sleep_milliseconds=0, # defaults to 0\n",
        "#     lang='en', # defaults to 'en'\n",
        "#     country='us', # defaults to 'us'\n",
        "#     sort=Sort.NEWEST, # defaults to Sort.MOST_RELEVANT\n",
        "# )\n",
        "\n",
        "us_reviews, continuation_token = reviews(\n",
        "    'com.zhiliaoapp.musically',\n",
        "    lang='en', # defaults to 'en'\n",
        "    country='us', # defaults to 'us'\n",
        "    sort=Sort.MOST_RELEVANT, # defaults to Sort.MOST_RELEVANT\n",
        "    count=200, # defaults to 100\n",
        "    filter_score_with=5 # defaults to None(means all score)\n",
        ")\n",
        "\n",
        "raw_data = pd.DataFrame(np.array(us_reviews),columns=['review'])\n",
        "raw_data = raw_data.join(pd.DataFrame(raw_data.pop('review').tolist()))\n",
        "raw_data.head()\n"
      ]
    },
    {
      "cell_type": "markdown",
      "metadata": {
        "id": "LdVifjd-S_7q"
      },
      "source": [
        "# Code"
      ]
    },
    {
      "cell_type": "code",
      "execution_count": null,
      "metadata": {
        "id": "dHgxE3O2OCDH"
      },
      "outputs": [],
      "source": [
        "def get_reviews_from_app(app):\n",
        "  if (not isinstance(app, str)):\n",
        "    raise AssertionError(app + ' is not a string')\n",
        "  reviews = reviews_all(\n",
        "    app,\n",
        "    sleep_milliseconds=0, # defaults to 0\n",
        "    lang='en', # defaults to 'en'\n",
        "    country='us', # defaults to 'us'\n",
        "    sort=Sort.NEWEST, # defaults to Sort.MOST_RELEVANT\n",
        "  )\n",
        "  if (len(reviews) == 0):\n",
        "    raise AssertionError(app + ' has no reviews')\n",
        "  reviews_df = pd.DataFrame(np.array(us_reviews),columns=['review'])\n",
        "  reviews_df = reviews_df.join(pd.DataFrame(reviews_df.pop('review').tolist()))\n",
        "  return reviews_df\n",
        "\n",
        "def get_reviews_from_list_of_apps(list_of_apps):\n",
        "  running_list_of_reviews = []\n",
        "  for app in list_of_apps:\n",
        "    temp_reviews = reviews_all(\n",
        "      app,\n",
        "      sleep_milliseconds=0, # defaults to 0\n",
        "      lang='en', # defaults to 'en'\n",
        "      country='us', # defaults to 'us'\n",
        "      sort=Sort.NEWEST, # defaults to Sort.MOST_RELEVANT\n",
        "    )\n",
        "    running_list_of_reviews.extend(temp_reviews)\n",
        "  # return running_list_of_reviews\n",
        "  all_reviews_df = pd.DataFrame(np.array(running_list_of_reviews),columns=['review'])\n",
        "  all_reviews_df = all_reviews_df.join(pd.DataFrame(all_reviews_df.pop('review').tolist()))\n",
        "  return all_reviews_df\n"
      ]
    },
    {
      "cell_type": "code",
      "execution_count": null,
      "metadata": {},
      "outputs": [],
      "source": [
        "list_of_apps = ['com.octapharma.OctaApp', 'com.busuu.android.en', 'vpn.global.free.proxy.super']\n",
        "get_reviews_from_list_of_apps(list_of_apps).info()\n"
      ]
    },
    {
      "cell_type": "code",
      "execution_count": null,
      "metadata": {
        "colab": {
          "base_uri": "https://localhost:8080/",
          "height": 708
        },
        "id": "8iV_GP4DB-Vq",
        "outputId": "ce4bed03-ad1f-48b5-f7a7-f2a5c0d10bd9"
      },
      "outputs": [],
      "source": [
        "raw_data = pd.DataFrame(np.array(us_reviews),columns=['review'])\n",
        "raw_data = raw_data.join(pd.DataFrame(raw_data.pop('review').tolist()))\n",
        "raw_data.head(30)\n",
        "\n",
        "slightly_refined_data = raw_data[[\"userName\", \"content\", \"score\", \"thumbsUpCount\", \"replyContent\"]]\n",
        "# df[~df['B'].isnull()]\n",
        "slightly_refined_data = slightly_refined_data[~slightly_refined_data['replyContent'].isnull()]\n",
        "# slightly_refined_data = slightly_refined_data[\"replyContent\"].notnull()\n",
        "slightly_refined_data.sort_values(\"thumbsUpCount\", ascending=False)\n",
        "slightly_refined_data.head(30)\n",
        "# slightly_refined_data.info()"
      ]
    },
    {
      "cell_type": "code",
      "execution_count": null,
      "metadata": {
        "id": "-JRr-KU_FXIN"
      },
      "outputs": [],
      "source": []
    }
  ],
  "metadata": {
    "colab": {
      "collapsed_sections": [],
      "name": "Comps Data Collection.ipynb",
      "provenance": []
    },
    "interpreter": {
      "hash": "afeff9cd6afd2e4295af6a07e89e96dd293f0a0fec06f0aa29a94509b7683f25"
    },
    "kernelspec": {
      "display_name": "Python 3.9.0 64-bit ('env': venv)",
      "name": "python3"
    },
    "language_info": {
      "codemirror_mode": {
        "name": "ipython",
        "version": 3
      },
      "file_extension": ".py",
      "mimetype": "text/x-python",
      "name": "python",
      "nbconvert_exporter": "python",
      "pygments_lexer": "ipython3",
      "version": "3.9.0"
    }
  },
  "nbformat": 4,
  "nbformat_minor": 2
}
