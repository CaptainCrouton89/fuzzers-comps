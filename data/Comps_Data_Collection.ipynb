{
  "cells": [
    {
      "cell_type": "code",
      "execution_count": 2,
      "metadata": {
        "colab": {
          "base_uri": "https://localhost:8080/"
        },
        "id": "ye8o51QkBATf",
        "outputId": "7d955fb5-27bc-40e2-f179-3281351f32b9"
      },
      "outputs": [],
      "source": [
        "# pip install google-play-scraper"
      ]
    },
    {
      "cell_type": "code",
      "execution_count": 11,
      "metadata": {
        "id": "HJqSVPxgBEoM"
      },
      "outputs": [],
      "source": [
        "from google_play_scraper import app\n",
        "import pandas as pd\n",
        "import numpy as np\n",
        "from google_play_scraper import Sort, reviews_all, reviews"
      ]
    },
    {
      "cell_type": "code",
      "execution_count": 70,
      "metadata": {},
      "outputs": [],
      "source": [
        "all_apps = {\n",
        "    \"Minecraft\":\"com.mojang.minecraftpe\",\n",
        "    \"Bloons TD 6\":\"com.ninjakiwi.bloonstd6\",\n",
        "    \"Geometry Dash\":\"com.robtopx.geometryjump\",\n",
        "    \"Heads Up!\":\"com.wb.headsup\",\n",
        "    \"True Skate\":\"com.trueaxis.trueskate\",\n",
        "    \"Plague Inc.\":\"com.miniclip.plagueinc\",\n",
        "    \"Monopoly\":\"com.marmalade.monopoly\",\n",
        "    \"Grand Theft Auto: Sand Andreas\":\"com.rockstargames.gtasa\",\n",
        "    \"Papa's Freezeria To Go!\":\"air.com.flipline.papasfreezeriatogo\",\n",
        "    \"Bloons TD 5\":\"com.ninjakiwi.bloonstd5\",\n",
        "    \"Terraria\":\"com.and.games505.TerrariaPaid\",\n",
        "    \"Stardew Valley\":\"com.chucklefish.stardewvalley\",\n",
        "    \"Incredibox\":\"com.sofarsogood.incredibox\",\n",
        "    \"Farming Simulator 20\":\"com.giantssoftware.fs20.google\",\n",
        "    \"Papa's Mocharia To Go!\":\"air.com.flipline.papasmochariatogo\",\n",
        "    \"Five Nights at Freddy's\":\"com.scottgames.fivenightsatfreddys\",\n",
        "    \"Lowriders Comeback 2: Cruising\":\"com.MontanaGames.Lowriders.Comeback2\",\n",
        "    \"Papa's Sushiria To Go!\":\"air.com.flipline.papassushiriatogo\",\n",
        "    \"Trivia Crack (No Ads)\":\"com.etermax.preguntados.pro\",\n",
        "    \"The Game of Life 2\":\"com.marmalade.gol2\",\n",
        "    \"The Game of Life\":\"com.marmalade.golmobile\",\n",
        "    \"My Child Lebensborn\":\"com.Sarepta.MyChildLebensborn\",\n",
        "    \"Earn to Die 2\":\"com.notdoppler.earntodie2\",\n",
        "    \"Pou\":\"me.pou.app\",\n",
        "    \"Pocket Build\":\"moonbear.PocketBuild\",\n",
        "    \"Call of Duty: Black Ops Zombies\":\"com.activision.boz\",\n",
        "    \"Five Nights at Freddy's 2\":\"com.scottgames.fnaf2\",\n",
        "    \"Grand Theft Auto: Vice City\":\"com.rockstargames.gtavc\",\n",
        "    \"Clue\":\"com.marmalade.cluedogame\",\n",
        "    \"Ultimate Custom Night\":\"com.clickteam.ultimatecustomnight\",\n",
        "    \"Papa's Wingeria To Go!\":\"air.com.flipline.papaswingeriatogo\",\n",
        "    \"Flick Home Run !\":\"com.infinitypocket.flickhomerun\",\n",
        "    \"Papa's Burgeria To GO!\":\"air.com.flipline.papasburgeriatogo\",\n",
        "    \"Earn To Die\":\"com.notdoppler.earntodie\",\n",
        "    \"Papa's Cupcakeria To Go!\":\"air.com.flipline.papascupcakeriatogo\",\n",
        "    \"Bully: Anniversary Edition\":\"com.rockstargames.bully\",\n",
        "    \"Papa's Chesseria To Go!\":\"air.com.flipline.papascheeseriatogo\",\n",
        "    \"Getting Over It\":\"com.noodlecake.gettingoverit\",\n",
        "    \"Five Nights at Freddy's 4\":\"com.scottgames.fnaf4\",\n",
        "    \"Under: Depths of Fear\":\"com.rogue.under\",\n",
        "    \"Papa's Pizzeria To Go!\":\"air.com.flipline.papaspizzeriatogo\",\n",
        "    \"Papa's Pastaria To Go!\":\"air.com.flipline.papaspastariatogo\",\n",
        "    \"Revel Inc.\":\"com.ndemiccreations.rebelinc\",\n",
        "    \"Papa's Pancakeria To Go!\":\"air.com.flipline.papaspancakeriatogo\",\n",
        "    \"Slay the Spire\":\"com.humble.SlayTheSpire\",\n",
        "    \"Papa's Donuteria To Go!\":\"air.com.flipline.papasdonuteriatogo\",\n",
        "    \"Exploding Kittnes\":\"com.explodingkittens.projectbombsquad\"\n",
        "}"
      ]
    },
    {
      "cell_type": "code",
      "execution_count": null,
      "metadata": {},
      "outputs": [],
      "source": [
        "#US Market\n",
        "\n",
        "# us_reviews = reviews_all(\n",
        "#     # 'com.busuu.android.en',\n",
        "#     # 'tv.twitch.android.app',\n",
        "#     'com.zhiliaoapp.musically',\n",
        "#     sleep_milliseconds=0, # defaults to 0\n",
        "#     lang='en', # defaults to 'en'\n",
        "#     country='us', # defaults to 'us'\n",
        "#     sort=Sort.NEWEST, # defaults to Sort.MOST_RELEVANT\n",
        "# )\n",
        "\n",
        "us_reviews, continuation_token = reviews(\n",
        "    'com.zhiliaoapp.musically',\n",
        "    lang='en', # defaults to 'en'\n",
        "    country='us', # defaults to 'us'\n",
        "    sort=Sort.MOST_RELEVANT, # defaults to Sort.MOST_RELEVANT\n",
        "    count=200, # defaults to 100\n",
        "    filter_score_with=5 # defaults to None(means all score)\n",
        ")\n",
        "\n",
        "raw_data = pd.DataFrame(np.array(us_reviews),columns=['review'])\n",
        "raw_data = raw_data.join(pd.DataFrame(raw_data.pop('review').tolist()))\n",
        "raw_data.head()"
      ]
    },
    {
      "cell_type": "markdown",
      "metadata": {
        "id": "LdVifjd-S_7q"
      },
      "source": [
        "# Code"
      ]
    },
    {
      "cell_type": "code",
      "execution_count": 73,
      "metadata": {
        "id": "dHgxE3O2OCDH"
      },
      "outputs": [],
      "source": [
        "def get_reviews_from_app(app):\n",
        "  if (not isinstance(app, str)):\n",
        "    raise AssertionError(app + ' is not a valid string')\n",
        "  reviews = reviews_all(\n",
        "    app,\n",
        "    sleep_milliseconds=0, # defaults to 0\n",
        "    lang='en', # defaults to 'en'\n",
        "    country='us', # defaults to 'us'\n",
        "    sort=Sort.NEWEST, # defaults to Sort.MOST_RELEVANT\n",
        "  )\n",
        "  if (len(reviews) == 0):\n",
        "    raise AssertionError(app + ' has no reviews')\n",
        "  reviews_df = pd.DataFrame(np.array(us_reviews),columns=['review'])\n",
        "  reviews_df = reviews_df.join(pd.DataFrame(reviews_df.pop('review').tolist()))\n",
        "  return reviews_df\n",
        "\n",
        "def get_reviews_from_list_of_apps(list_of_apps):\n",
        "  running_list_of_reviews = []\n",
        "  for app_name, app_id in list_of_apps.items():\n",
        "    print(\"Getting reviews for \" + app_name)\n",
        "    if (not isinstance(app_id, str)):\n",
        "      raise AssertionError(app_id + ' is not a valid string')\n",
        "    temp_reviews = reviews_all(\n",
        "      app_id,\n",
        "      sleep_milliseconds=0, # defaults to 0\n",
        "      lang='en', # defaults to 'en'\n",
        "      country='us', # defaults to 'us'\n",
        "      sort=Sort.NEWEST, # defaults to Sort.MOST_RELEVANT\n",
        "    )\n",
        "    if (len(temp_reviews) == 0):\n",
        "      raise AssertionError(app_name + ' has no reviews')\n",
        "    for entry in temp_reviews:\n",
        "      entry['appName'] = app_name\n",
        "    running_list_of_reviews.extend(temp_reviews)\n",
        "  all_reviews_df = pd.DataFrame(np.array(running_list_of_reviews),columns=['review'])\n",
        "  all_reviews_df = all_reviews_df.join(pd.DataFrame(all_reviews_df.pop('review').tolist()))\n",
        "  return all_reviews_df\n",
        "\n",
        "def write_dataframe_to_file_as_json(dataframe, file_path):\n",
        "  with open(file_path, 'w') as f:\n",
        "    f.write(dataframe.to_json())\n"
      ]
    },
    {
      "cell_type": "code",
      "execution_count": null,
      "metadata": {},
      "outputs": [],
      "source": [
        "dict_of_apps = {\n",
        "    'OctaApp – Donate Plasma, Make Money, Save Lives!':'com.octapharma.OctaApp',\n",
        "    'Busuu: Learn English':'com.busuu.android.en',\n",
        "    'Global VPN - Free & Secure Hotspot VPN Proxy':'vpn.global.free.proxy.super'\n",
        "    }\n",
        "reviews_of_dict_of_apps = get_reviews_from_list_of_apps(dict_of_apps)\n",
        "\n",
        "write_dataframe_to_file_as_json(reviews_of_dict_of_apps, './actually_the_data/data_test.json')\n",
        "\n",
        "dict_data_with_responses = reviews_of_dict_of_apps \n",
        "dict_data_with_responses = dict_data_with_responses[~dict_data_with_responses['replyContent'].isnull()]\n",
        "\n",
        "write_dataframe_to_file_as_json(dict_data_with_responses, './actually_the_data/data_with_responses_test.json')"
      ]
    },
    {
      "cell_type": "code",
      "execution_count": null,
      "metadata": {},
      "outputs": [],
      "source": [
        "reviews_of_all_apps = get_reviews_from_list_of_apps(all_apps)\n",
        "reviews_of_all_apps\n",
        "write_dataframe_to_file_as_json(reviews_of_all_apps, './actually_the_data/raw_data.json')"
      ]
    },
    {
      "cell_type": "code",
      "execution_count": null,
      "metadata": {},
      "outputs": [],
      "source": [
        "data_with_responses = reviews_of_all_apps #raw_data[[\"appName\", \"userName\", \"content\", \"score\", \"thumbsUpCount\", \"replyContent\"]]\n",
        "data_with_responses = data_with_responses[~data_with_responses['replyContent'].isnull()]\n",
        "\n",
        "write_dataframe_to_file_as_json(data_with_responses, './actually_the_data/data_with_responses.json')"
      ]
    }
  ],
  "metadata": {
    "colab": {
      "collapsed_sections": [],
      "name": "Comps Data Collection.ipynb",
      "provenance": []
    },
    "interpreter": {
      "hash": "108f689c88a4eeb3031c49eded25adc79e59424388e2abda683127fc5c685097"
    },
    "kernelspec": {
      "display_name": "Python 3.9.7 64-bit (windows store)",
      "name": "python3"
    },
    "language_info": {
      "codemirror_mode": {
        "name": "ipython",
        "version": 3
      },
      "file_extension": ".py",
      "mimetype": "text/x-python",
      "name": "python",
      "nbconvert_exporter": "python",
      "pygments_lexer": "ipython3",
      "version": "3.9.7"
    }
  },
  "nbformat": 4,
  "nbformat_minor": 2
}
