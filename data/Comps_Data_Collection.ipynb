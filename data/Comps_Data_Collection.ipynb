{
  "cells": [
    {
      "cell_type": "markdown",
      "metadata": {},
      "source": [
        "# Setup"
      ]
    },
    {
      "cell_type": "code",
      "execution_count": 6,
      "metadata": {
        "id": "HJqSVPxgBEoM"
      },
      "outputs": [],
      "source": [
        "# pip install google-play-scraper\n",
        "# https://github.com/JoMingyu/google-play-scraper/blob/master/README.md\n",
        "from google_play_scraper import app\n",
        "import json\n",
        "import pandas as pd\n",
        "import numpy as np\n",
        "from google_play_scraper import Sort, reviews_all, reviews\n",
        "import re\n",
        "from spellchecker import SpellChecker"
      ]
    },
    {
      "cell_type": "code",
      "execution_count": 3,
      "metadata": {},
      "outputs": [],
      "source": [
        "all_apps = {\n",
        "    \"Minecraft\":\"com.mojang.minecraftpe\",\n",
        "    \"Bloons TD 6\":\"com.ninjakiwi.bloonstd6\",\n",
        "    \"Geometry Dash\":\"com.robtopx.geometryjump\",\n",
        "    \"Heads Up!\":\"com.wb.headsup\",\n",
        "    \"True Skate\":\"com.trueaxis.trueskate\",\n",
        "    \"Plague Inc.\":\"com.miniclip.plagueinc\",\n",
        "    \"Monopoly\":\"com.marmalade.monopoly\",\n",
        "    \"Grand Theft Auto: Sand Andreas\":\"com.rockstargames.gtasa\",\n",
        "    \"Papa's Freezeria To Go!\":\"air.com.flipline.papasfreezeriatogo\",\n",
        "    \"Bloons TD 5\":\"com.ninjakiwi.bloonstd5\",\n",
        "    \"Terraria\":\"com.and.games505.TerrariaPaid\",\n",
        "    \"Stardew Valley\":\"com.chucklefish.stardewvalley\",\n",
        "    \"Incredibox\":\"com.sofarsogood.incredibox\",\n",
        "    \"Farming Simulator 20\":\"com.giantssoftware.fs20.google\",\n",
        "    \"Papa's Mocharia To Go!\":\"air.com.flipline.papasmochariatogo\",\n",
        "    \"Five Nights at Freddy's\":\"com.scottgames.fivenightsatfreddys\",\n",
        "    \"Lowriders Comeback 2: Cruising\":\"com.MontanaGames.Lowriders.Comeback2\",\n",
        "    \"Papa's Sushiria To Go!\":\"air.com.flipline.papassushiriatogo\",\n",
        "    \"Trivia Crack (No Ads)\":\"com.etermax.preguntados.pro\",\n",
        "    \"The Game of Life 2\":\"com.marmalade.gol2\",\n",
        "    \"The Game of Life\":\"com.marmalade.golmobile\",\n",
        "    \"My Child Lebensborn\":\"com.Sarepta.MyChildLebensborn\",\n",
        "    \"Earn to Die 2\":\"com.notdoppler.earntodie2\",\n",
        "    \"Pou\":\"me.pou.app\",\n",
        "    \"Pocket Build\":\"moonbear.PocketBuild\",\n",
        "    \"Call of Duty: Black Ops Zombies\":\"com.activision.boz\",\n",
        "    \"Five Nights at Freddy's 2\":\"com.scottgames.fnaf2\",\n",
        "    \"Grand Theft Auto: Vice City\":\"com.rockstargames.gtavc\",\n",
        "    \"Clue\":\"com.marmalade.cluedogame\",\n",
        "    \"Ultimate Custom Night\":\"com.clickteam.ultimatecustomnight\",\n",
        "    \"Papa's Wingeria To Go!\":\"air.com.flipline.papaswingeriatogo\",\n",
        "    \"Flick Home Run !\":\"com.infinitypocket.flickhomerun\",\n",
        "    \"Papa's Burgeria To GO!\":\"air.com.flipline.papasburgeriatogo\",\n",
        "    \"Earn To Die\":\"com.notdoppler.earntodie\",\n",
        "    \"Papa's Cupcakeria To Go!\":\"air.com.flipline.papascupcakeriatogo\",\n",
        "    \"Bully: Anniversary Edition\":\"com.rockstargames.bully\",\n",
        "    \"Papa's Chesseria To Go!\":\"air.com.flipline.papascheeseriatogo\",\n",
        "    \"Getting Over It\":\"com.noodlecake.gettingoverit\",\n",
        "    \"Five Nights at Freddy's 4\":\"com.scottgames.fnaf4\",\n",
        "    \"Under: Depths of Fear\":\"com.rogue.under\",\n",
        "    \"Papa's Pizzeria To Go!\":\"air.com.flipline.papaspizzeriatogo\",\n",
        "    \"Papa's Pastaria To Go!\":\"air.com.flipline.papaspastariatogo\",\n",
        "    \"Revel Inc.\":\"com.ndemiccreations.rebelinc\",\n",
        "    \"Papa's Pancakeria To Go!\":\"air.com.flipline.papaspancakeriatogo\",\n",
        "    \"Slay the Spire\":\"com.humble.SlayTheSpire\",\n",
        "    \"Papa's Donuteria To Go!\":\"air.com.flipline.papasdonuteriatogo\",\n",
        "    \"Exploding Kittnes\":\"com.explodingkittens.projectbombsquad\"\n",
        "}"
      ]
    },
    {
      "cell_type": "markdown",
      "metadata": {
        "id": "LdVifjd-S_7q"
      },
      "source": [
        "# Code"
      ]
    },
    {
      "cell_type": "code",
      "execution_count": 73,
      "metadata": {
        "id": "dHgxE3O2OCDH"
      },
      "outputs": [],
      "source": [
        "def get_reviews_from_app(app):\n",
        "  if (not isinstance(app, str)):\n",
        "    raise AssertionError(app + ' is not a valid string')\n",
        "  reviews = reviews_all(\n",
        "    app,\n",
        "    sleep_milliseconds=0, # defaults to 0\n",
        "    lang='en', # defaults to 'en'\n",
        "    country='us', # defaults to 'us'\n",
        "    sort=Sort.NEWEST, # defaults to Sort.MOST_RELEVANT\n",
        "  )\n",
        "  if (len(reviews) == 0):\n",
        "    raise AssertionError(app + ' has no reviews')\n",
        "  reviews_df = pd.DataFrame(np.array(us_reviews),columns=['review'])\n",
        "  reviews_df = reviews_df.join(pd.DataFrame(reviews_df.pop('review').tolist()))\n",
        "  return reviews_df\n",
        "\n",
        "def get_reviews_from_list_of_apps(list_of_apps):\n",
        "  running_list_of_reviews = []\n",
        "  for app_name, app_id in list_of_apps.items():\n",
        "    print(\"Getting reviews for \" + app_name)\n",
        "    if (not isinstance(app_id, str)):\n",
        "      raise AssertionError(app_id + ' is not a valid string')\n",
        "    temp_reviews = reviews_all(\n",
        "      app_id,\n",
        "      sleep_milliseconds=0, # defaults to 0\n",
        "      lang='en', # defaults to 'en'\n",
        "      country='us', # defaults to 'us'\n",
        "      sort=Sort.NEWEST, # defaults to Sort.MOST_RELEVANT\n",
        "    )\n",
        "    if (len(temp_reviews) == 0):\n",
        "      raise AssertionError(app_name + ' has no reviews')\n",
        "    for entry in temp_reviews:\n",
        "      entry['appName'] = app_name\n",
        "    running_list_of_reviews.extend(temp_reviews)\n",
        "  all_reviews_df = pd.DataFrame(np.array(running_list_of_reviews),columns=['review'])\n",
        "  all_reviews_df = all_reviews_df.join(pd.DataFrame(all_reviews_df.pop('review').tolist()))\n",
        "  return all_reviews_df"
      ]
    },
    {
      "cell_type": "markdown",
      "metadata": {},
      "source": [
        "# Generating the Data"
      ]
    },
    {
      "cell_type": "code",
      "execution_count": null,
      "metadata": {},
      "outputs": [],
      "source": [
        "# dict_of_apps = {\n",
        "#     'OctaApp – Donate Plasma, Make Money, Save Lives!':'com.octapharma.OctaApp',\n",
        "#     'Busuu: Learn English':'com.busuu.android.en',\n",
        "#     'Global VPN - Free & Secure Hotspot VPN Proxy':'vpn.global.free.proxy.super'\n",
        "#     }\n",
        "# reviews_of_dict_of_apps = get_reviews_from_list_of_apps(dict_of_apps)\n",
        "# reviews_of_dict_of_apps.to_json('./app_review_data/data_test.json', orient=\"split\")\n",
        "\n",
        "# dict_data_with_responses = reviews_of_dict_of_apps \n",
        "# dict_data_with_responses = dict_data_with_responses[~dict_data_with_responses['replyContent'].isnull()]\n",
        "# dict_data_with_responses.to_json('./app_review_data/data_with_responses_test.json', orient=\"split\")\n",
        "\n",
        "# Commented out because testing was successful"
      ]
    },
    {
      "cell_type": "code",
      "execution_count": null,
      "metadata": {},
      "outputs": [],
      "source": [
        "reviews_of_all_apps = get_reviews_from_list_of_apps(all_apps)\n",
        "reviews_of_all_apps\n",
        "reviews_of_all_apps.to_json('./app_review_data/raw_data.json', orient=\"split\")"
      ]
    },
    {
      "cell_type": "code",
      "execution_count": null,
      "metadata": {},
      "outputs": [],
      "source": [
        "data_with_responses = reviews_of_all_apps #raw_data[[\"appName\", \"userName\", \"content\", \"score\", \"thumbsUpCount\", \"replyContent\"]]\n",
        "data_with_responses = data_with_responses[~data_with_responses['replyContent'].isnull()]\n",
        "data_with_responses.to_json('./app_review_data/data_with_responses.json', orient=\"split\")"
      ]
    },
    {
      "cell_type": "markdown",
      "metadata": {},
      "source": [
        "# Processing Data"
      ]
    },
    {
      "cell_type": "code",
      "execution_count": 89,
      "metadata": {},
      "outputs": [],
      "source": [
        "def process_data_from_file(file_path, output_file_path):\n",
        "    output = process_data(pd.read_json(file_path, orient='split'))\n",
        "    output.to_json(output_file_path, orient='split')\n",
        "\n",
        "def process_data(dataframe):\n",
        "    checker = SpellChecker(distance=1)\n",
        "    output_dataframe = dataframe[['appName', 'userName', 'content', 'score', 'thumbsUpCount', 'replyContent']]\n",
        "    # \"reviewId\",\"userName\",\"userImage\",\"content\",\"score\",\"thumbsUpCount\",\"reviewCreatedVersion\",\"at\",\"replyContent\",\"repliedAt\",\"appName\"\n",
        "    for index, row in output_dataframe.iterrows():\n",
        "        row['appName'] = row['appName'].lower()\n",
        "        row['userName'] = row['userName'].lower()\n",
        "        row['content'] = row['content'].lower()\n",
        "        row['replyContent'] = row['replyContent'].lower()\n",
        "        # replace emails with <email>\n",
        "        regex = '''(?:[a-z0-9!#$%&'*+ /=?^_`{ | }~-]+(?: \\.[a-z0-9!  # $%&'*+/=?^_`{|}~-]+)*|\"(?:[\\x01-\\x08\\x0b\\x0c\\x0e-\\x1f\\x21\\x23-\\x5b\\x5d-\\x7f]|\\\\[\\x01-\\x09\\x0b\\x0c\\x0e-\\x7f])*\")@(?:(?:[a-z0-9](?:[a-z0-9-]*[a-z0-9])?\\.)+[a-z0-9](?:[a-z0-9-]*[a-z0-9])?|\\[(?:(?:25[0-5]|2[0-4][0-9]|[01]?[0-9][0-9]?)\\.){3}(?:25[0-5]|2[0-4][0-9]|[01]?[0-9][0-9]?|[a-z0-9-]*[a-z0-9]:(?:[\\x01-\\x08\\x0b\\x0c\\x0e-\\x1f\\x21-\\x5a\\x53-\\x7f]|\\\\[\\x01-\\x09\\x0b\\x0c\\x0e-\\x7f])+)\\])'''\n",
        "        re.sub(regex, '<email>', row['content'])\n",
        "        re.sub(regex, '<email>', row['replyContent'])\n",
        "        # replace urls with <url>\n",
        "        regex = 'http[s]?://(?:[a-zA-Z]|[0-9]|[$-_@.&+]|[!*\\(\\),]|(?:%[0-9a-fA-F][0-9a-fA-F]))+'\n",
        "        re.sub(regex, '<url>', row['content'])\n",
        "        re.sub(regex, '<url>', row['replyContent'])\n",
        "        # replace names with <username>\n",
        "        regex = row['userName']\n",
        "        re.sub(regex, '<username>', row['content'])\n",
        "        re.sub(regex, '<username>', row['replyContent'])\n",
        "        # replace numbers with <digits>\n",
        "        regex = '[0-9]+'\n",
        "        re.sub(regex, '<digits>', row['content'])\n",
        "        re.sub(regex, '<digits>', row['replyContent'])\n",
        "        # replace app name with <appname>\n",
        "        regex = row['appName']\n",
        "        re.sub(regex, '<appname>', row['content'])\n",
        "        re.sub(regex, '<appname>', row['replyContent'])\n",
        "        # fix typos\n",
        "        content_list = row['content'].split()\n",
        "        reply_list = row['replyContent'].split()\n",
        "        for i in range(len(content_list)):\n",
        "            if content_list[i][0] == '<':\n",
        "                continue\n",
        "            content_list[i] = checker.correction(content_list[i])\n",
        "        for i in range(len(reply_list)):\n",
        "            if reply_list[i][0] == '<':\n",
        "                continue\n",
        "            reply_list[i] = checker.correction(reply_list[i])\n",
        "        row['content'] = ' '.join(content_list)\n",
        "        row['replyContent'] = ' '.join(reply_list)\n",
        "        output_dataframe.loc[index] = row\n",
        "        # remove repeated words\n",
        "    return output_dataframe\n"
      ]
    },
    {
      "cell_type": "code",
      "execution_count": null,
      "metadata": {},
      "outputs": [],
      "source": [
        "process_data_from_file('app_review_data/data_with_responses_test.json', 'app_review_data/parsed_data_with_responses_test.json')\n",
        "process_data_from_file('app_review_data/data_with_responses.json', 'app_review_data/parsed_data_with_responses.json')"
      ]
    }
  ],
  "metadata": {
    "colab": {
      "collapsed_sections": [],
      "name": "Comps Data Collection.ipynb",
      "provenance": []
    },
    "interpreter": {
      "hash": "108f689c88a4eeb3031c49eded25adc79e59424388e2abda683127fc5c685097"
    },
    "kernelspec": {
      "display_name": "Python 3.9.7 64-bit (windows store)",
      "name": "python3"
    },
    "language_info": {
      "codemirror_mode": {
        "name": "ipython",
        "version": 3
      },
      "file_extension": ".py",
      "mimetype": "text/x-python",
      "name": "python",
      "nbconvert_exporter": "python",
      "pygments_lexer": "ipython3",
      "version": "3.9.7"
    }
  },
  "nbformat": 4,
  "nbformat_minor": 2
}
