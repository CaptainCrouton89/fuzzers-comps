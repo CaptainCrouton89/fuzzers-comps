{
  "cells": [
    {
      "cell_type": "code",
      "execution_count": null,
      "source": [
        "# pip install google-play-scraper"
      ],
      "outputs": [],
      "metadata": {
        "colab": {
          "base_uri": "https://localhost:8080/"
        },
        "id": "ye8o51QkBATf",
        "outputId": "7d955fb5-27bc-40e2-f179-3281351f32b9"
      }
    },
    {
      "cell_type": "code",
      "execution_count": 5,
      "source": [
        "from google_play_scraper import app\n",
        "import pandas as pd\n",
        "import numpy as np\n",
        "from google_play_scraper import Sort, reviews_all, reviews"
      ],
      "outputs": [],
      "metadata": {
        "id": "HJqSVPxgBEoM"
      }
    },
    {
      "cell_type": "code",
      "execution_count": 5,
      "source": [
        "all_apps = [\n",
        "    \"com.mojang.minecraftpe\",\n",
        "    \"com.ninjakiwi.bloonstd6\",\n",
        "    \"com.robtopx.geometryjump\",\n",
        "    \"com.wb.headsup\",\n",
        "    \"com.trueaxis.trueskate\",\n",
        "    \"com.miniclip.plagueinc\",\n",
        "    \"com.marmalade.monopoly\",\n",
        "    \"com.rockstargames.gtasa\",\n",
        "    \"com.ninjakiwi.bloonstd5\",\n",
        "    \"air.com.flipline.papasfreezeriatogo\",\n",
        "    \"com.and.games505.TerrariaPaid\",\n",
        "    \"com.chucklefish.stardewvalley\",\n",
        "    \"com.sofarsogood.incredibox\",\n",
        "    \"com.giantssoftware.fs20.google\",\n",
        "    \"air.com.flipline.papasmochariatogo\",\n",
        "    \"com.scottgames.fivenightsatfreddys\",\n",
        "    \"com.MontanaGames.Lowriders.Comeback2\"\n",
        "]\n"
      ],
      "outputs": [],
      "metadata": {}
    },
    {
      "cell_type": "code",
      "execution_count": 7,
      "source": [
        "#US Market\n",
        "\n",
        "# us_reviews = reviews_all(\n",
        "#     # 'com.busuu.android.en',\n",
        "#     # 'tv.twitch.android.app',\n",
        "#     'com.zhiliaoapp.musically',\n",
        "#     sleep_milliseconds=0, # defaults to 0\n",
        "#     lang='en', # defaults to 'en'\n",
        "#     country='us', # defaults to 'us'\n",
        "#     sort=Sort.NEWEST, # defaults to Sort.MOST_RELEVANT\n",
        "# )\n",
        "\n",
        "us_reviews, continuation_token = reviews(\n",
        "    'com.zhiliaoapp.musically',\n",
        "    lang='en', # defaults to 'en'\n",
        "    country='us', # defaults to 'us'\n",
        "    sort=Sort.MOST_RELEVANT, # defaults to Sort.MOST_RELEVANT\n",
        "    count=200, # defaults to 100\n",
        "    filter_score_with=5 # defaults to None(means all score)\n",
        ")\n",
        "\n",
        "raw_data = pd.DataFrame(np.array(us_reviews),columns=['review'])\n",
        "raw_data = raw_data.join(pd.DataFrame(raw_data.pop('review').tolist()))\n",
        "raw_data.head()\n"
      ],
      "outputs": [
        {
          "output_type": "execute_result",
          "data": {
            "text/html": [
              "<div>\n",
              "<style scoped>\n",
              "    .dataframe tbody tr th:only-of-type {\n",
              "        vertical-align: middle;\n",
              "    }\n",
              "\n",
              "    .dataframe tbody tr th {\n",
              "        vertical-align: top;\n",
              "    }\n",
              "\n",
              "    .dataframe thead th {\n",
              "        text-align: right;\n",
              "    }\n",
              "</style>\n",
              "<table border=\"1\" class=\"dataframe\">\n",
              "  <thead>\n",
              "    <tr style=\"text-align: right;\">\n",
              "      <th></th>\n",
              "      <th>reviewId</th>\n",
              "      <th>userName</th>\n",
              "      <th>userImage</th>\n",
              "      <th>content</th>\n",
              "      <th>score</th>\n",
              "      <th>thumbsUpCount</th>\n",
              "      <th>reviewCreatedVersion</th>\n",
              "      <th>at</th>\n",
              "      <th>replyContent</th>\n",
              "      <th>repliedAt</th>\n",
              "    </tr>\n",
              "  </thead>\n",
              "  <tbody>\n",
              "    <tr>\n",
              "      <th>0</th>\n",
              "      <td>gp:AOqpTOFuQYoucT70k4-nyjFUQsOIDGc1HFYZro_I5oC...</td>\n",
              "      <td>Sarah Anotinette Russo</td>\n",
              "      <td>https://play-lh.googleusercontent.com/a-/AOh14...</td>\n",
              "      <td>Hate this app. Barely use it. It took up so mu...</td>\n",
              "      <td>5</td>\n",
              "      <td>5176</td>\n",
              "      <td>21.3.3</td>\n",
              "      <td>2021-10-09 17:17:06</td>\n",
              "      <td>Hi, thanks for the great suggestions! We will ...</td>\n",
              "      <td>2021-10-12 04:15:34</td>\n",
              "    </tr>\n",
              "    <tr>\n",
              "      <th>1</th>\n",
              "      <td>gp:AOqpTOFIec63WjqOrjJrvn37mjNF6BWApwHm-G6FsIH...</td>\n",
              "      <td>Sevda K_D</td>\n",
              "      <td>https://play-lh.googleusercontent.com/a-/AOh14...</td>\n",
              "      <td>I really like it! Is a really great app and th...</td>\n",
              "      <td>5</td>\n",
              "      <td>224</td>\n",
              "      <td>21.5.1</td>\n",
              "      <td>2021-10-08 15:09:18</td>\n",
              "      <td>Hi, thanks for the high rating. TikTok team wi...</td>\n",
              "      <td>2021-10-10 02:40:15</td>\n",
              "    </tr>\n",
              "    <tr>\n",
              "      <th>2</th>\n",
              "      <td>gp:AOqpTOHMZTl67ut6S3cQMu_AaPOTvDFjQWGaHoEK3jQ...</td>\n",
              "      <td>《Suki Suki》</td>\n",
              "      <td>https://play-lh.googleusercontent.com/a-/AOh14...</td>\n",
              "      <td>This app is incredible! I love it so much, you...</td>\n",
              "      <td>5</td>\n",
              "      <td>593</td>\n",
              "      <td>21.2.5</td>\n",
              "      <td>2021-09-21 22:05:40</td>\n",
              "      <td>Hi, thanks for the high rating. TikTok team wi...</td>\n",
              "      <td>2021-10-10 21:31:22</td>\n",
              "    </tr>\n",
              "    <tr>\n",
              "      <th>3</th>\n",
              "      <td>gp:AOqpTOETvUD7fCAvVKATqt4TqFW-ifSaANptAJeSuMN...</td>\n",
              "      <td>cassandra ' vlogs</td>\n",
              "      <td>https://play-lh.googleusercontent.com/a/AATXAJ...</td>\n",
              "      <td>It's fun having new friends,And always active,...</td>\n",
              "      <td>5</td>\n",
              "      <td>93</td>\n",
              "      <td>21.3.41</td>\n",
              "      <td>2021-10-09 18:06:16</td>\n",
              "      <td>Hi, thanks for the high rating. TikTok team wi...</td>\n",
              "      <td>2021-10-12 04:16:05</td>\n",
              "    </tr>\n",
              "    <tr>\n",
              "      <th>4</th>\n",
              "      <td>gp:AOqpTOHlzRk709yUeBf6g89jjgCtewIfyCBfRSGoJqq...</td>\n",
              "      <td>Rosaleah Urena</td>\n",
              "      <td>https://play-lh.googleusercontent.com/a-/AOh14...</td>\n",
              "      <td>This is my favorite app, I love it, and I star...</td>\n",
              "      <td>5</td>\n",
              "      <td>9</td>\n",
              "      <td>21.3.41</td>\n",
              "      <td>2021-10-10 09:09:14</td>\n",
              "      <td>None</td>\n",
              "      <td>NaT</td>\n",
              "    </tr>\n",
              "  </tbody>\n",
              "</table>\n",
              "</div>"
            ],
            "text/plain": [
              "                                            reviewId                userName  \\\n",
              "0  gp:AOqpTOFuQYoucT70k4-nyjFUQsOIDGc1HFYZro_I5oC...  Sarah Anotinette Russo   \n",
              "1  gp:AOqpTOFIec63WjqOrjJrvn37mjNF6BWApwHm-G6FsIH...               Sevda K_D   \n",
              "2  gp:AOqpTOHMZTl67ut6S3cQMu_AaPOTvDFjQWGaHoEK3jQ...             《Suki Suki》   \n",
              "3  gp:AOqpTOETvUD7fCAvVKATqt4TqFW-ifSaANptAJeSuMN...       cassandra ' vlogs   \n",
              "4  gp:AOqpTOHlzRk709yUeBf6g89jjgCtewIfyCBfRSGoJqq...          Rosaleah Urena   \n",
              "\n",
              "                                           userImage  \\\n",
              "0  https://play-lh.googleusercontent.com/a-/AOh14...   \n",
              "1  https://play-lh.googleusercontent.com/a-/AOh14...   \n",
              "2  https://play-lh.googleusercontent.com/a-/AOh14...   \n",
              "3  https://play-lh.googleusercontent.com/a/AATXAJ...   \n",
              "4  https://play-lh.googleusercontent.com/a-/AOh14...   \n",
              "\n",
              "                                             content  score  thumbsUpCount  \\\n",
              "0  Hate this app. Barely use it. It took up so mu...      5           5176   \n",
              "1  I really like it! Is a really great app and th...      5            224   \n",
              "2  This app is incredible! I love it so much, you...      5            593   \n",
              "3  It's fun having new friends,And always active,...      5             93   \n",
              "4  This is my favorite app, I love it, and I star...      5              9   \n",
              "\n",
              "  reviewCreatedVersion                  at  \\\n",
              "0               21.3.3 2021-10-09 17:17:06   \n",
              "1               21.5.1 2021-10-08 15:09:18   \n",
              "2               21.2.5 2021-09-21 22:05:40   \n",
              "3              21.3.41 2021-10-09 18:06:16   \n",
              "4              21.3.41 2021-10-10 09:09:14   \n",
              "\n",
              "                                        replyContent           repliedAt  \n",
              "0  Hi, thanks for the great suggestions! We will ... 2021-10-12 04:15:34  \n",
              "1  Hi, thanks for the high rating. TikTok team wi... 2021-10-10 02:40:15  \n",
              "2  Hi, thanks for the high rating. TikTok team wi... 2021-10-10 21:31:22  \n",
              "3  Hi, thanks for the high rating. TikTok team wi... 2021-10-12 04:16:05  \n",
              "4                                               None                 NaT  "
            ]
          },
          "metadata": {},
          "execution_count": 7
        }
      ],
      "metadata": {}
    },
    {
      "cell_type": "markdown",
      "source": [
        "#Code"
      ],
      "metadata": {
        "id": "LdVifjd-S_7q"
      }
    },
    {
      "cell_type": "code",
      "execution_count": 57,
      "source": [
        "def get_reviews_from_app(app):\n",
        "  if (not isinstance(app, str)):\n",
        "    raise AssertionError(app + ' is not a string')\n",
        "  reviews = reviews_all(\n",
        "    app,\n",
        "    sleep_milliseconds=0, # defaults to 0\n",
        "    lang='en', # defaults to 'en'\n",
        "    country='us', # defaults to 'us'\n",
        "    sort=Sort.NEWEST, # defaults to Sort.MOST_RELEVANT\n",
        "  )\n",
        "  if (len(reviews) == 0):\n",
        "    raise AssertionError(app + ' has no reviews')\n",
        "  reviews_df = pd.DataFrame(np.array(us_reviews),columns=['review'])\n",
        "  reviews_df = reviews_df.join(pd.DataFrame(reviews_df.pop('review').tolist()))\n",
        "  return reviews_df\n",
        "\n",
        "def get_reviews_from_list_of_apps(list_of_apps):\n",
        "  running_list_of_reviews = []\n",
        "  for app in list_of_apps:\n",
        "    temp_reviews = reviews_all(\n",
        "      app,\n",
        "      sleep_milliseconds=0, # defaults to 0\n",
        "      lang='en', # defaults to 'en'\n",
        "      country='us', # defaults to 'us'\n",
        "      sort=Sort.NEWEST, # defaults to Sort.MOST_RELEVANT\n",
        "    )\n",
        "    running_list_of_reviews.extend(temp_reviews)\n",
        "  # return running_list_of_reviews\n",
        "  all_reviews_df = pd.DataFrame(np.array(running_list_of_reviews),columns=['review'])\n",
        "  all_reviews_df = all_reviews_df.join(pd.DataFrame(all_reviews_df.pop('review').tolist()))\n",
        "  return all_reviews_df\n"
      ],
      "outputs": [],
      "metadata": {
        "id": "dHgxE3O2OCDH"
      }
    },
    {
      "cell_type": "code",
      "execution_count": 62,
      "source": [
        "list_of_apps = ['com.octapharma.OctaApp', 'com.busuu.android.en', 'vpn.global.free.proxy.super']\n",
        "get_reviews_from_list_of_apps(list_of_apps).info()\n"
      ],
      "outputs": [
        {
          "output_type": "stream",
          "name": "stdout",
          "text": [
            "<class 'pandas.core.frame.DataFrame'>\n",
            "RangeIndex: 5744 entries, 0 to 5743\n",
            "Data columns (total 10 columns):\n",
            " #   Column                Non-Null Count  Dtype         \n",
            "---  ------                --------------  -----         \n",
            " 0   reviewId              5744 non-null   object        \n",
            " 1   userName              5744 non-null   object        \n",
            " 2   userImage             5744 non-null   object        \n",
            " 3   content               5743 non-null   object        \n",
            " 4   score                 5744 non-null   int64         \n",
            " 5   thumbsUpCount         5744 non-null   int64         \n",
            " 6   reviewCreatedVersion  5358 non-null   object        \n",
            " 7   at                    5744 non-null   datetime64[ns]\n",
            " 8   replyContent          247 non-null    object        \n",
            " 9   repliedAt             247 non-null    datetime64[ns]\n",
            "dtypes: datetime64[ns](2), int64(2), object(6)\n",
            "memory usage: 448.9+ KB\n"
          ]
        }
      ],
      "metadata": {}
    },
    {
      "cell_type": "code",
      "execution_count": 6,
      "source": [
        "raw_data = pd.DataFrame(np.array(us_reviews),columns=['review'])\n",
        "raw_data = raw_data.join(pd.DataFrame(raw_data.pop('review').tolist()))\n",
        "raw_data.head(30)\n",
        "\n",
        "slightly_refined_data = raw_data[[\"userName\", \"content\", \"score\", \"thumbsUpCount\", \"replyContent\"]]\n",
        "# df[~df['B'].isnull()]\n",
        "slightly_refined_data = slightly_refined_data[~slightly_refined_data['replyContent'].isnull()]\n",
        "# slightly_refined_data = slightly_refined_data[\"replyContent\"].notnull()\n",
        "slightly_refined_data.sort_values(\"thumbsUpCount\", ascending=False)\n",
        "slightly_refined_data.head(30)\n",
        "# slightly_refined_data.info()"
      ],
      "outputs": [
        {
          "output_type": "error",
          "ename": "NameError",
          "evalue": "name 'us_reviews' is not defined",
          "traceback": [
            "\u001b[0;31m---------------------------------------------------------------------------\u001b[0m",
            "\u001b[0;31mNameError\u001b[0m                                 Traceback (most recent call last)",
            "\u001b[0;32m/var/folders/sj/y4xrl4317cdg4y0ltn8345m00000gn/T/ipykernel_53121/1918248844.py\u001b[0m in \u001b[0;36m<module>\u001b[0;34m\u001b[0m\n\u001b[0;32m----> 1\u001b[0;31m \u001b[0mraw_data\u001b[0m \u001b[0;34m=\u001b[0m \u001b[0mpd\u001b[0m\u001b[0;34m.\u001b[0m\u001b[0mDataFrame\u001b[0m\u001b[0;34m(\u001b[0m\u001b[0mnp\u001b[0m\u001b[0;34m.\u001b[0m\u001b[0marray\u001b[0m\u001b[0;34m(\u001b[0m\u001b[0mus_reviews\u001b[0m\u001b[0;34m)\u001b[0m\u001b[0;34m,\u001b[0m\u001b[0mcolumns\u001b[0m\u001b[0;34m=\u001b[0m\u001b[0;34m[\u001b[0m\u001b[0;34m'review'\u001b[0m\u001b[0;34m]\u001b[0m\u001b[0;34m)\u001b[0m\u001b[0;34m\u001b[0m\u001b[0;34m\u001b[0m\u001b[0m\n\u001b[0m\u001b[1;32m      2\u001b[0m \u001b[0mraw_data\u001b[0m \u001b[0;34m=\u001b[0m \u001b[0mraw_data\u001b[0m\u001b[0;34m.\u001b[0m\u001b[0mjoin\u001b[0m\u001b[0;34m(\u001b[0m\u001b[0mpd\u001b[0m\u001b[0;34m.\u001b[0m\u001b[0mDataFrame\u001b[0m\u001b[0;34m(\u001b[0m\u001b[0mraw_data\u001b[0m\u001b[0;34m.\u001b[0m\u001b[0mpop\u001b[0m\u001b[0;34m(\u001b[0m\u001b[0;34m'review'\u001b[0m\u001b[0;34m)\u001b[0m\u001b[0;34m.\u001b[0m\u001b[0mtolist\u001b[0m\u001b[0;34m(\u001b[0m\u001b[0;34m)\u001b[0m\u001b[0;34m)\u001b[0m\u001b[0;34m)\u001b[0m\u001b[0;34m\u001b[0m\u001b[0;34m\u001b[0m\u001b[0m\n\u001b[1;32m      3\u001b[0m \u001b[0mraw_data\u001b[0m\u001b[0;34m.\u001b[0m\u001b[0mhead\u001b[0m\u001b[0;34m(\u001b[0m\u001b[0;36m30\u001b[0m\u001b[0;34m)\u001b[0m\u001b[0;34m\u001b[0m\u001b[0;34m\u001b[0m\u001b[0m\n\u001b[1;32m      4\u001b[0m \u001b[0;34m\u001b[0m\u001b[0m\n\u001b[1;32m      5\u001b[0m \u001b[0mslightly_refined_data\u001b[0m \u001b[0;34m=\u001b[0m \u001b[0mraw_data\u001b[0m\u001b[0;34m[\u001b[0m\u001b[0;34m[\u001b[0m\u001b[0;34m\"userName\"\u001b[0m\u001b[0;34m,\u001b[0m \u001b[0;34m\"content\"\u001b[0m\u001b[0;34m,\u001b[0m \u001b[0;34m\"score\"\u001b[0m\u001b[0;34m,\u001b[0m \u001b[0;34m\"thumbsUpCount\"\u001b[0m\u001b[0;34m,\u001b[0m \u001b[0;34m\"replyContent\"\u001b[0m\u001b[0;34m]\u001b[0m\u001b[0;34m]\u001b[0m\u001b[0;34m\u001b[0m\u001b[0;34m\u001b[0m\u001b[0m\n",
            "\u001b[0;31mNameError\u001b[0m: name 'us_reviews' is not defined"
          ]
        }
      ],
      "metadata": {
        "colab": {
          "base_uri": "https://localhost:8080/",
          "height": 708
        },
        "id": "8iV_GP4DB-Vq",
        "outputId": "ce4bed03-ad1f-48b5-f7a7-f2a5c0d10bd9"
      }
    },
    {
      "cell_type": "code",
      "execution_count": null,
      "source": [],
      "outputs": [],
      "metadata": {
        "id": "-JRr-KU_FXIN"
      }
    }
  ],
  "metadata": {
    "colab": {
      "collapsed_sections": [],
      "name": "Comps Data Collection.ipynb",
      "provenance": []
    },
    "interpreter": {
      "hash": "108f689c88a4eeb3031c49eded25adc79e59424388e2abda683127fc5c685097"
    },
    "kernelspec": {
      "display_name": "Python 3.9.7 64-bit (windows store)",
      "name": "python3"
    },
    "language_info": {
      "codemirror_mode": {
        "name": "ipython",
        "version": 3
      },
      "file_extension": ".py",
      "mimetype": "text/x-python",
      "name": "python",
      "nbconvert_exporter": "python",
      "pygments_lexer": "ipython3",
      "version": "3.9.7"
    }
  },
  "nbformat": 4,
  "nbformat_minor": 2
}