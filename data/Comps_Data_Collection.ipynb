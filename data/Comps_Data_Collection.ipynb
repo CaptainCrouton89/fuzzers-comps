{
  "cells": [
    {
      "cell_type": "code",
      "execution_count": null,
      "metadata": {
        "colab": {
          "base_uri": "https://localhost:8080/"
        },
        "id": "ye8o51QkBATf",
        "outputId": "7d955fb5-27bc-40e2-f179-3281351f32b9"
      },
      "outputs": [],
      "source": [
        "# pip install google-play-scraper"
      ]
    },
    {
      "cell_type": "code",
      "execution_count": null,
      "metadata": {
        "id": "HJqSVPxgBEoM"
      },
      "outputs": [],
      "source": [
        "from google_play_scraper import app\n",
        "import json\n",
        "import pandas as pd\n",
        "import numpy as np\n",
        "from google_play_scraper import Sort, reviews_all, reviews"
      ]
    },
    {
      "cell_type": "code",
      "execution_count": 9,
      "metadata": {},
      "outputs": [],
      "source": [
        "# testing git integration!\n",
        "all_apps = [\n",
        "    \"com.mojang.minecraftpe\",\n",
        "    \"com.ninjakiwi.bloonstd6\",\n",
        "    \"com.robtopx.geometryjump\",\n",
        "    \"com.wb.headsup\",\n",
        "    \"com.trueaxis.trueskate\",\n",
        "    \"com.miniclip.plagueinc\",\n",
        "    \"com.marmalade.monopoly\",\n",
        "    \"com.rockstargames.gtasa\",\n",
        "    \"com.ninjakiwi.bloonstd5\",\n",
        "    \"air.com.flipline.papasfreezeriatogo\",\n",
        "    \"com.and.games505.TerrariaPaid\",\n",
        "    \"com.chucklefish.stardewvalley\",\n",
        "    \"com.sofarsogood.incredibox\",\n",
        "    \"com.giantssoftware.fs20.google\",\n",
        "    \"air.com.flipline.papasmochariatogo\",\n",
        "    \"com.scottgames.fivenightsatfreddys\",\n",
        "    \"com.MontanaGames.Lowriders.Comeback2\",\n",
        "    \"com.MontanaGames.Lowriders.Comeback2\", \n",
        "    \"air.com.flipline.papassushiriatogo\", \n",
        "    \"com.etermax.preguntados.pro\", \n",
        "    \"com.marmalade.gol2\", \n",
        "    \"com.marmalade.golmobile\", \n",
        "    \"com.Sarepta.MyChildLebensborn\", \n",
        "    \"com.notdoppler.earntodie2\", \n",
        "    \"me.pou.app\", \n",
        "    \"moonbear.PocketBuild\", \n",
        "    \"com.activision.boz\", \n",
        "    \"com.scottgames.fnaf2\", \n",
        "    \"com.rockstargames.gtavc\", \n",
        "    \"com.marmalade.cluedogame\", \n",
        "    \"com.clickteam.ultimatecustomnight\", \n",
        "    \"air.com.flipline.papaswingeriatogo\",\n",
        "    \"com.infinitypocket.flickhomerun\", \n",
        "    \"air.com.flipline.papasburgeriatogo\", \n",
        "    \"com.notdoppler.earntodie\", \n",
        "    \"air.com.flipline.papascupcakeriatogo\", \n",
        "    \"com.rockstargames.bully\", \n",
        "    \"air.com.flipline.papascheeseriatogo\", \n",
        "    \"com.noodlecake.gettingoverit\", \n",
        "    \"com.scottgames.fnaf4\", \n",
        "    \"com.rogue.under\", \n",
        "    \"air.com.flipline.papaspizzeriatogo\", \n",
        "    \"air.com.flipline.papaspastariatogo\", \n",
        "    \"com.ndemiccreations.rebelinc\", \n",
        "    \"air.com.flipline.papaspancakeriatogo\", \n",
        "    \"com.humble.SlayTheSpire\", \n",
        "    \"air.com.flipline.papasdonuteriatogo\", \n",
        "    \"com.explodingkittens.projectbombsquad\"\n",
        "]\n"
      ]
    },
    {
      "cell_type": "code",
      "execution_count": 10,
      "metadata": {},
      "outputs": [
        {
          "data": {
            "text/html": [
              "<div>\n",
              "<style scoped>\n",
              "    .dataframe tbody tr th:only-of-type {\n",
              "        vertical-align: middle;\n",
              "    }\n",
              "\n",
              "    .dataframe tbody tr th {\n",
              "        vertical-align: top;\n",
              "    }\n",
              "\n",
              "    .dataframe thead th {\n",
              "        text-align: right;\n",
              "    }\n",
              "</style>\n",
              "<table border=\"1\" class=\"dataframe\">\n",
              "  <thead>\n",
              "    <tr style=\"text-align: right;\">\n",
              "      <th></th>\n",
              "      <th>reviewId</th>\n",
              "      <th>userName</th>\n",
              "      <th>userImage</th>\n",
              "      <th>content</th>\n",
              "      <th>score</th>\n",
              "      <th>thumbsUpCount</th>\n",
              "      <th>reviewCreatedVersion</th>\n",
              "      <th>at</th>\n",
              "      <th>replyContent</th>\n",
              "      <th>repliedAt</th>\n",
              "    </tr>\n",
              "  </thead>\n",
              "  <tbody>\n",
              "    <tr>\n",
              "      <th>0</th>\n",
              "      <td>gp:AOqpTOHufbCm5EZ3ar5URfy7zialFZpm2L7BUP-I6Xx...</td>\n",
              "      <td>Michael Borne</td>\n",
              "      <td>https://play-lh.googleusercontent.com/a/AATXAJ...</td>\n",
              "      <td>Very exciting, very entertaining! Warns you to...</td>\n",
              "      <td>5</td>\n",
              "      <td>294</td>\n",
              "      <td>21.5.6</td>\n",
              "      <td>2021-10-11 23:55:05</td>\n",
              "      <td>None</td>\n",
              "      <td>NaT</td>\n",
              "    </tr>\n",
              "    <tr>\n",
              "      <th>1</th>\n",
              "      <td>gp:AOqpTOEIxNcg1eCzomzWoa0nS7ldQG_bwRwbZQ365g_...</td>\n",
              "      <td>Rebekka Kaleja</td>\n",
              "      <td>https://play-lh.googleusercontent.com/a-/AOh14...</td>\n",
              "      <td>Recently when I upload videos it just isn't up...</td>\n",
              "      <td>5</td>\n",
              "      <td>548</td>\n",
              "      <td>21.5.6</td>\n",
              "      <td>2021-10-12 17:18:40</td>\n",
              "      <td>Hi, sorry for the inconvenience. Could you ple...</td>\n",
              "      <td>2021-05-14 04:15:15</td>\n",
              "    </tr>\n",
              "    <tr>\n",
              "      <th>2</th>\n",
              "      <td>gp:AOqpTOEej4PeNGGGiu5QS-YKfupPVCQfy5CZAbATOza...</td>\n",
              "      <td>Kelly Nauert</td>\n",
              "      <td>https://play-lh.googleusercontent.com/a-/AOh14...</td>\n",
              "      <td>I wish I could stop the live feeds from showin...</td>\n",
              "      <td>5</td>\n",
              "      <td>500</td>\n",
              "      <td>21.5.6</td>\n",
              "      <td>2021-10-11 13:06:40</td>\n",
              "      <td>Hi, thanks for your valuable feedback. TikTok ...</td>\n",
              "      <td>2021-10-14 03:50:13</td>\n",
              "    </tr>\n",
              "    <tr>\n",
              "      <th>3</th>\n",
              "      <td>gp:AOqpTOEOMvNexeBaa7-jvgA8Exf-bzUEsLLB8Y1bERi...</td>\n",
              "      <td>Sharon Braxton</td>\n",
              "      <td>https://play-lh.googleusercontent.com/a-/AOh14...</td>\n",
              "      <td>Cute and fun, it seems like when i start watch...</td>\n",
              "      <td>5</td>\n",
              "      <td>174</td>\n",
              "      <td>21.3.41</td>\n",
              "      <td>2021-10-11 13:48:42</td>\n",
              "      <td>Hi, thanks for the high rating. TikTok team wi...</td>\n",
              "      <td>2021-10-14 03:52:09</td>\n",
              "    </tr>\n",
              "    <tr>\n",
              "      <th>4</th>\n",
              "      <td>gp:AOqpTOHAndZI7kLqdTMTUpME_6DU7FASHzPofQWOScn...</td>\n",
              "      <td>Cloudpaint</td>\n",
              "      <td>https://play-lh.googleusercontent.com/a-/AOh14...</td>\n",
              "      <td>Its awesome. It's a bit annoying that a don't ...</td>\n",
              "      <td>5</td>\n",
              "      <td>88</td>\n",
              "      <td>21.3.41</td>\n",
              "      <td>2021-10-11 18:33:00</td>\n",
              "      <td>Hi, thanks for choosing TikTok, your feed is p...</td>\n",
              "      <td>2021-10-14 03:53:16</td>\n",
              "    </tr>\n",
              "  </tbody>\n",
              "</table>\n",
              "</div>"
            ],
            "text/plain": [
              "                                            reviewId        userName  \\\n",
              "0  gp:AOqpTOHufbCm5EZ3ar5URfy7zialFZpm2L7BUP-I6Xx...   Michael Borne   \n",
              "1  gp:AOqpTOEIxNcg1eCzomzWoa0nS7ldQG_bwRwbZQ365g_...  Rebekka Kaleja   \n",
              "2  gp:AOqpTOEej4PeNGGGiu5QS-YKfupPVCQfy5CZAbATOza...    Kelly Nauert   \n",
              "3  gp:AOqpTOEOMvNexeBaa7-jvgA8Exf-bzUEsLLB8Y1bERi...  Sharon Braxton   \n",
              "4  gp:AOqpTOHAndZI7kLqdTMTUpME_6DU7FASHzPofQWOScn...      Cloudpaint   \n",
              "\n",
              "                                           userImage  \\\n",
              "0  https://play-lh.googleusercontent.com/a/AATXAJ...   \n",
              "1  https://play-lh.googleusercontent.com/a-/AOh14...   \n",
              "2  https://play-lh.googleusercontent.com/a-/AOh14...   \n",
              "3  https://play-lh.googleusercontent.com/a-/AOh14...   \n",
              "4  https://play-lh.googleusercontent.com/a-/AOh14...   \n",
              "\n",
              "                                             content  score  thumbsUpCount  \\\n",
              "0  Very exciting, very entertaining! Warns you to...      5            294   \n",
              "1  Recently when I upload videos it just isn't up...      5            548   \n",
              "2  I wish I could stop the live feeds from showin...      5            500   \n",
              "3  Cute and fun, it seems like when i start watch...      5            174   \n",
              "4  Its awesome. It's a bit annoying that a don't ...      5             88   \n",
              "\n",
              "  reviewCreatedVersion                  at  \\\n",
              "0               21.5.6 2021-10-11 23:55:05   \n",
              "1               21.5.6 2021-10-12 17:18:40   \n",
              "2               21.5.6 2021-10-11 13:06:40   \n",
              "3              21.3.41 2021-10-11 13:48:42   \n",
              "4              21.3.41 2021-10-11 18:33:00   \n",
              "\n",
              "                                        replyContent           repliedAt  \n",
              "0                                               None                 NaT  \n",
              "1  Hi, sorry for the inconvenience. Could you ple... 2021-05-14 04:15:15  \n",
              "2  Hi, thanks for your valuable feedback. TikTok ... 2021-10-14 03:50:13  \n",
              "3  Hi, thanks for the high rating. TikTok team wi... 2021-10-14 03:52:09  \n",
              "4  Hi, thanks for choosing TikTok, your feed is p... 2021-10-14 03:53:16  "
            ]
          },
          "execution_count": 10,
          "metadata": {},
          "output_type": "execute_result"
        }
      ],
      "source": [
        "#US Market\n",
        "\n",
        "# us_reviews = reviews_all(\n",
        "#     # 'com.busuu.android.en',\n",
        "#     # 'tv.twitch.android.app',\n",
        "#     'com.zhiliaoapp.musically',\n",
        "#     sleep_milliseconds=0, # defaults to 0\n",
        "#     lang='en', # defaults to 'en'\n",
        "#     country='us', # defaults to 'us'\n",
        "#     sort=Sort.NEWEST, # defaults to Sort.MOST_RELEVANT\n",
        "# )\n",
        "\n",
        "us_reviews, continuation_token = reviews(\n",
        "    'com.zhiliaoapp.musically',\n",
        "    lang='en', # defaults to 'en'\n",
        "    country='us', # defaults to 'us'\n",
        "    sort=Sort.MOST_RELEVANT, # defaults to Sort.MOST_RELEVANT\n",
        "    count=200, # defaults to 100\n",
        "    filter_score_with=5 # defaults to None(means all score)\n",
        ")\n",
        "\n",
        "raw_data = pd.DataFrame(np.array(us_reviews),columns=['review'])\n",
        "raw_data = raw_data.join(pd.DataFrame(raw_data.pop('review').tolist()))\n",
        "raw_data.head()\n"
      ]
    },
    {
      "cell_type": "markdown",
      "metadata": {
        "id": "LdVifjd-S_7q"
      },
      "source": [
        "# Code"
      ]
    },
    {
      "cell_type": "code",
      "execution_count": 12,
      "metadata": {
        "id": "dHgxE3O2OCDH"
      },
      "outputs": [],
      "source": [
        "def get_reviews_from_app(app):\n",
        "  if (not isinstance(app, str)):\n",
        "    raise AssertionError(app + ' is not a string')\n",
        "  reviews = reviews_all(\n",
        "    app,\n",
        "    sleep_milliseconds=0, # defaults to 0\n",
        "    lang='en', # defaults to 'en'\n",
        "    country='us', # defaults to 'us'\n",
        "    sort=Sort.NEWEST, # defaults to Sort.MOST_RELEVANT\n",
        "  )\n",
        "  if (len(reviews) == 0):\n",
        "    raise AssertionError(app + ' has no reviews')\n",
        "  reviews_df = pd.DataFrame(np.array(us_reviews),columns=['review'])\n",
        "  reviews_df = reviews_df.join(pd.DataFrame(reviews_df.pop('review').tolist()))\n",
        "  return reviews_df\n",
        "\n",
        "def get_reviews_from_list_of_apps(list_of_apps):\n",
        "  running_list_of_reviews = []\n",
        "  for app in list_of_apps:\n",
        "    temp_reviews = reviews_all(\n",
        "      app,\n",
        "      sleep_milliseconds=0, # defaults to 0\n",
        "      lang='en', # defaults to 'en'\n",
        "      country='us', # defaults to 'us'\n",
        "      sort=Sort.NEWEST, # defaults to Sort.MOST_RELEVANT\n",
        "    )\n",
        "    running_list_of_reviews.extend(temp_reviews)\n",
        "  # return running_list_of_reviews\n",
        "  all_reviews_df = pd.DataFrame(np.array(running_list_of_reviews),columns=['review'])\n",
        "  all_reviews_df = all_reviews_df.join(pd.DataFrame(all_reviews_df.pop('review').tolist()))\n",
        "  return all_reviews_df\n"
      ]
    },
    {
      "cell_type": "code",
      "execution_count": 14,
      "metadata": {},
      "outputs": [],
      "source": [
        "list_of_apps = ['com.octapharma.OctaApp', 'com.busuu.android.en', 'vpn.global.free.proxy.super']\n",
        "get_reviews_from_list_of_apps(all_apps[:3]).info()\n"
      ]
    },
    {
      "cell_type": "code",
      "execution_count": null,
      "metadata": {
        "colab": {
          "base_uri": "https://localhost:8080/",
          "height": 708
        },
        "id": "8iV_GP4DB-Vq",
        "outputId": "ce4bed03-ad1f-48b5-f7a7-f2a5c0d10bd9"
      },
      "outputs": [],
      "source": [
        "raw_data = pd.DataFrame(np.array(us_reviews),columns=['review'])\n",
        "raw_data = raw_data.join(pd.DataFrame(raw_data.pop('review').tolist()))\n",
        "raw_data.head(30)\n",
        "\n",
        "slightly_refined_data = raw_data[[\"userName\", \"content\", \"score\", \"thumbsUpCount\", \"replyContent\"]]\n",
        "# df[~df['B'].isnull()]\n",
        "slightly_refined_data = slightly_refined_data[~slightly_refined_data['replyContent'].isnull()]\n",
        "# slightly_refined_data = slightly_refined_data[\"replyContent\"].notnull()\n",
        "slightly_refined_data.sort_values(\"thumbsUpCount\", ascending=False)\n",
        "slightly_refined_data.head(30)\n",
        "# slightly_refined_data.info()"
      ]
    },
    {
      "cell_type": "code",
      "execution_count": null,
      "metadata": {
        "id": "-JRr-KU_FXIN"
      },
      "outputs": [],
      "source": [
        "result = raw_data.to_json(orient=\"split\")\n",
        "with open('raw_data.json', 'w') as f:\n",
        "    json.dumps(result, f)\n",
        "\n",
        "result = slightly_refined_data.to_json(orient=\"split\")\n",
        "with open('refined_data.json', 'w') as f:\n",
        "    json.dumps(result, f)\n"
      ]
    },
    {
      "cell_type": "code",
      "execution_count": null,
      "metadata": {},
      "outputs": [],
      "source": []
    }
  ],
  "metadata": {
    "colab": {
      "collapsed_sections": [],
      "name": "Comps Data Collection.ipynb",
      "provenance": []
    },
    "interpreter": {
      "hash": "afeff9cd6afd2e4295af6a07e89e96dd293f0a0fec06f0aa29a94509b7683f25"
    },
    "kernelspec": {
      "display_name": "Python 3.9.0 64-bit ('env': venv)",
      "name": "python3"
    },
    "language_info": {
      "codemirror_mode": {
        "name": "ipython",
        "version": 3
      },
      "file_extension": ".py",
      "mimetype": "text/x-python",
      "name": "python",
      "nbconvert_exporter": "python",
      "pygments_lexer": "ipython3",
      "version": "3.9.0"
    }
  },
  "nbformat": 4,
  "nbformat_minor": 2
}
